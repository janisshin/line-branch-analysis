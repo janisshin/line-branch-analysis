{
 "cells": [
  {
   "cell_type": "code",
   "execution_count": 1,
   "metadata": {},
   "outputs": [],
   "source": [
    "from tensorflow import keras\n",
    "\n",
    "import tensorflow as tf\n",
    "import random as python_random\n",
    "\n",
    "from tensorflow.keras.models import Sequential\n",
    "from tensorflow.keras.layers import Dense\n",
    "from tensorflow.keras.wrappers.scikit_learn import KerasRegressor\n",
    "\n",
    "import matplotlib.pyplot as plt\n",
    "from matplotlib.ticker import MaxNLocator\n",
    "import numpy as np\n",
    "import pandas as pd\n",
    "from sklearn.model_selection import cross_val_score\n",
    "from sklearn.model_selection import KFold\n",
    "from sklearn.model_selection import train_test_split\n",
    "from sklearn.preprocessing import StandardScaler\n",
    "from sklearn.pipeline import Pipeline\n"
   ]
  },
  {
   "cell_type": "code",
   "execution_count": 2,
   "metadata": {},
   "outputs": [],
   "source": [
    "MArel = pd.read_csv('2linear/MA_relative_dataset.csv')"
   ]
  },
  {
   "cell_type": "code",
   "execution_count": 25,
   "metadata": {},
   "outputs": [],
   "source": [
    "# establish predictors and targets\n",
    "x = MArel[['e1_perturbed', 'relative_s2','relative_flux']].values\n",
    "y = MArel[['k1', 'k2']].values\n"
   ]
  },
  {
   "cell_type": "code",
   "execution_count": 26,
   "metadata": {},
   "outputs": [],
   "source": [
    "# split into train and test data\n",
    "x_train, x_test, y_train, y_test = train_test_split(x, y,\n",
    "                                                    test_size=0.20,\n",
    "                                                    random_state=111)\n"
   ]
  },
  {
   "cell_type": "code",
   "execution_count": 27,
   "metadata": {},
   "outputs": [],
   "source": [
    "# normalize data\n",
    "scaler = StandardScaler().fit(x_train)\n",
    "x_train_norm = scaler.transform(x_train)\n",
    "x_test_norm = scaler.transform(x_test)\n"
   ]
  },
  {
   "cell_type": "code",
   "execution_count": 57,
   "metadata": {},
   "outputs": [
    {
     "data": {
      "text/plain": [
       "(array([217., 604., 101.,  37.,  15.,  12.,   6.,   5.,   1.,   2.]),\n",
       " array([0.09656758, 0.752084  , 1.40760043, 2.06311685, 2.71863328,\n",
       "        3.3741497 , 4.02966613, 4.68518255, 5.34069898, 5.9962154 ,\n",
       "        6.65173183]),\n",
       " <BarContainer object of 10 artists>)"
      ]
     },
     "execution_count": 57,
     "metadata": {},
     "output_type": "execute_result"
    },
    {
     "data": {
      "image/png": "[encoded data removed]",
      "text/plain": [
       "<Figure size 432x288 with 1 Axes>"
      ]
     },
     "metadata": {
      "needs_background": "light"
     },
     "output_type": "display_data"
    }
   ],
   "source": [
    "plt.hist(x_test[:,0])\n",
    "plt.hist(x_test[:,1])\n",
    "plt.hist(x_test[:,2])"
   ]
  },
  {
   "cell_type": "code",
   "execution_count": 60,
   "metadata": {},
   "outputs": [
    {
     "data": {
      "text/plain": [
       "(array([217., 604., 101.,  37.,  15.,  12.,   6.,   5.,   1.,   2.]),\n",
       " array([-1.40068023, -0.53530174,  0.33007674,  1.19545523,  2.06083372,\n",
       "         2.92621221,  3.7915907 ,  4.65696918,  5.52234767,  6.38772616,\n",
       "         7.25310465]),\n",
       " <BarContainer object of 10 artists>)"
      ]
     },
     "execution_count": 60,
     "metadata": {},
     "output_type": "execute_result"
    },
    {
     "data": {
      "image/png": "[encoded data removed]",
      "text/plain": [
       "<Figure size 432x288 with 1 Axes>"
      ]
     },
     "metadata": {
      "needs_background": "light"
     },
     "output_type": "display_data"
    }
   ],
   "source": [
    "plt.hist(x_test_norm[:,0])\n",
    "plt.hist(x_test_norm[:,1])\n",
    "plt.hist(x_test_norm[:,2])"
   ]
  },
  {
   "cell_type": "code",
   "execution_count": 61,
   "metadata": {},
   "outputs": [
    {
     "data": {
      "text/plain": [
       "3"
      ]
     },
     "execution_count": 61,
     "metadata": {},
     "output_type": "execute_result"
    }
   ],
   "source": [
    "x_train_norm.shape[1]"
   ]
  },
  {
   "cell_type": "code",
   "execution_count": 62,
   "metadata": {},
   "outputs": [],
   "source": [
    "# define the NN\n",
    "def nnmodel1():\n",
    "    model = Sequential()\n",
    "    model.add(Dense(4, input_dim=x_train_norm.shape[1], kernel_initializer='normal', activation='relu'))\n",
    "    model.add(Dense(20, kernel_initializer='normal', activation='relu'))\n",
    "    model.add(Dense(2, kernel_initializer='normal'))\n",
    "    model.compile(loss='mean_squared_error', optimizer='adam')\n",
    "    return model"
   ]
  },
  {
   "cell_type": "code",
   "execution_count": 63,
   "metadata": {},
   "outputs": [
    {
     "name": "stdout",
     "output_type": "stream",
     "text": [
      "Epoch 1/20\n",
      "84/84 [==============================] - 2s 8ms/step - loss: 0.2968 - val_loss: 0.1069\n",
      "Epoch 2/20\n",
      "84/84 [==============================] - 0s 3ms/step - loss: 0.0972 - val_loss: 0.0866\n",
      "Epoch 3/20\n",
      "84/84 [==============================] - 0s 3ms/step - loss: 0.0852 - val_loss: 0.0852\n",
      "Epoch 4/20\n",
      "84/84 [==============================] - 0s 3ms/step - loss: 0.0861 - val_loss: 0.0848\n",
      "Epoch 5/20\n",
      "84/84 [==============================] - 0s 3ms/step - loss: 0.0870 - val_loss: 0.0846\n",
      "Epoch 6/20\n",
      "84/84 [==============================] - 0s 4ms/step - loss: 0.0868 - val_loss: 0.0846\n",
      "Epoch 7/20\n",
      "84/84 [==============================] - 1s 7ms/step - loss: 0.0835 - val_loss: 0.0846\n",
      "Epoch 8/20\n",
      "84/84 [==============================] - 1s 7ms/step - loss: 0.0833 - val_loss: 0.0845\n",
      "Epoch 9/20\n",
      "84/84 [==============================] - 0s 4ms/step - loss: 0.0838 - val_loss: 0.0844\n",
      "Epoch 10/20\n",
      "84/84 [==============================] - 0s 5ms/step - loss: 0.0853 - val_loss: 0.0843\n",
      "Epoch 11/20\n",
      "84/84 [==============================] - 0s 4ms/step - loss: 0.0870 - val_loss: 0.0844\n",
      "Epoch 12/20\n",
      "84/84 [==============================] - 0s 3ms/step - loss: 0.0857 - val_loss: 0.0844\n",
      "Epoch 13/20\n",
      "84/84 [==============================] - 0s 3ms/step - loss: 0.0854 - val_loss: 0.0842\n",
      "Epoch 14/20\n",
      "84/84 [==============================] - 0s 3ms/step - loss: 0.0841 - val_loss: 0.0839\n",
      "Epoch 15/20\n",
      "84/84 [==============================] - 0s 4ms/step - loss: 0.0834 - val_loss: 0.0838\n",
      "Epoch 16/20\n",
      "84/84 [==============================] - 0s 4ms/step - loss: 0.0840 - val_loss: 0.0835\n",
      "Epoch 17/20\n",
      "84/84 [==============================] - 0s 4ms/step - loss: 0.0841 - val_loss: 0.0841\n",
      "Epoch 18/20\n",
      "84/84 [==============================] - 0s 3ms/step - loss: 0.0842 - val_loss: 0.0833\n",
      "Epoch 19/20\n",
      "84/84 [==============================] - 0s 3ms/step - loss: 0.0823 - val_loss: 0.0842\n",
      "Epoch 20/20\n",
      "84/84 [==============================] - 0s 4ms/step - loss: 0.0847 - val_loss: 0.0832\n"
     ]
    }
   ],
   "source": [
    "# train the NN\n",
    "np.random.seed(1)\n",
    "estimator = KerasRegressor(build_fn=nnmodel1)\n",
    "history = estimator.fit(x_train_norm, y_train, validation_split=0.33, epochs=20, batch_size=32)"
   ]
  },
  {
   "cell_type": "code",
   "execution_count": 64,
   "metadata": {},
   "outputs": [
    {
     "data": {
      "image/png": "[encoded data removed]",
      "text/plain": [
       "<Figure size 432x288 with 1 Axes>"
      ]
     },
     "metadata": {
      "needs_background": "light"
     },
     "output_type": "display_data"
    }
   ],
   "source": [
    "plt.plot(range(20),history.history['loss'])\n",
    "plt.plot(range(20),history.history['val_loss'])\n",
    "plt.title('model loss')\n",
    "plt.ylabel('loss')\n",
    "plt.xlabel('epoch') #epoch\n",
    "plt.legend(['train', 'validation'], loc='upper right')\n",
    "plt.grid()\n",
    "plt.show()"
   ]
  },
  {
   "cell_type": "code",
   "execution_count": 65,
   "metadata": {},
   "outputs": [
    {
     "name": "stdout",
     "output_type": "stream",
     "text": [
      "final MSE for train is 0.08 and for validation is 0.08\n"
     ]
    }
   ],
   "source": [
    "print(\"final MSE for train is %.2f and for validation is %.2f\" % \n",
    "      (history.history['loss'][-1], history.history['val_loss'][-1]))"
   ]
  },
  {
   "cell_type": "code",
   "execution_count": 66,
   "metadata": {},
   "outputs": [
    {
     "name": "stdout",
     "output_type": "stream",
     "text": [
      "32/32 [==============================] - 0s 1ms/step - loss: 0.0808\n",
      "test set mse is 0.08\n"
     ]
    }
   ],
   "source": [
    "# test the NN\n",
    "test_loss = estimator.model.evaluate(x_test_norm, y_test)\n",
    "print(\"test set mse is %.2f\" % test_loss)"
   ]
  },
  {
   "cell_type": "code",
   "execution_count": 71,
   "metadata": {},
   "outputs": [],
   "source": [
    "#Predict with the NN\n",
    "y_test_predict = estimator.predict(x_test_norm)"
   ]
  },
  {
   "cell_type": "code",
   "execution_count": 72,
   "metadata": {},
   "outputs": [
    {
     "data": {
      "text/plain": [
       "(1000, 2)"
      ]
     },
     "execution_count": 72,
     "metadata": {},
     "output_type": "execute_result"
    }
   ],
   "source": [
    "y_test_predict.shape"
   ]
  },
  {
   "cell_type": "code",
   "execution_count": 73,
   "metadata": {},
   "outputs": [
    {
     "data": {
      "image/png": "[encoded data removed]",
      "text/plain": [
       "<Figure size 432x288 with 1 Axes>"
      ]
     },
     "metadata": {
      "needs_background": "light"
     },
     "output_type": "display_data"
    }
   ],
   "source": [
    "# plot predictions\n",
    "plt.scatter(y_test[:,0], y_test_predict[:,0])\n",
    "plt.xlabel(\"True value of test data\")\n",
    "plt.ylabel(\"Predicted value of test data\")\n",
    "plt.plot(np.arange(min(y_test[:,0]),max(y_test[:,0]),0.01),np.arange(min(y_test[:,0]),max(y_test[:,0]),0.01),c='orange')\n",
    "plt.grid()"
   ]
  },
  {
   "cell_type": "code",
   "execution_count": 74,
   "metadata": {},
   "outputs": [
    {
     "data": {
      "image/png": "[encoded data removed]",
      "text/plain": [
       "<Figure size 432x288 with 1 Axes>"
      ]
     },
     "metadata": {
      "needs_background": "light"
     },
     "output_type": "display_data"
    }
   ],
   "source": [
    "# plot predictions\n",
    "plt.scatter(y_test[:,0], y_test_predict[:,1])\n",
    "plt.xlabel(\"True value of test data\")\n",
    "plt.ylabel(\"Predicted value of test data\")\n",
    "plt.plot(np.arange(min(y_test[:,0]),max(y_test[:,0]),0.01),np.arange(min(y_test[:,0]),max(y_test[:,0]),0.01),c='orange')\n",
    "plt.grid()"
   ]
  },
  {
   "cell_type": "code",
   "execution_count": null,
   "metadata": {},
   "outputs": [],
   "source": [
    "# Tune the NN"
   ]
  },
  {
   "cell_type": "code",
   "execution_count": null,
   "metadata": {},
   "outputs": [],
   "source": []
  },
  {
   "cell_type": "code",
   "execution_count": null,
   "metadata": {},
   "outputs": [],
   "source": []
  }
 ],
 "metadata": {
  "kernelspec": {
   "display_name": "Python ('neuralnet')",
   "language": "python",
   "name": "python3"
  },
  "language_info": {
   "codemirror_mode": {
    "name": "ipython",
    "version": 3
   },
   "file_extension": ".py",
   "mimetype": "text/x-python",
   "name": "python",
   "nbconvert_exporter": "python",
   "pygments_lexer": "ipython3",
   "version": "3.8.6"
  },
  "orig_nbformat": 4,
  "vscode": {
   "interpreter": {
    "hash": "25a19fbe0a9132dfb9279d48d161753c6352f8f9478c2e74383d340069b907c3"
   }
  }
 },
 "nbformat": 4,
 "nbformat_minor": 2
}
